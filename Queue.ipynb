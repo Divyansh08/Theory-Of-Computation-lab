{
 "cells": [
  {
   "cell_type": "code",
   "execution_count": 2,
   "metadata": {},
   "outputs": [
    {
     "name": "stdout",
     "output_type": "stream",
     "text": [
      "[0]\n",
      "[0, 1]\n",
      "[0, 1, 2]\n",
      "[0, 1, 2, 3]\n",
      "[1, 2, 3]\n",
      "3\n"
     ]
    }
   ],
   "source": [
    "class queue:\n",
    "    def __init__(self):\n",
    "        self.l=[]\n",
    "    def enque(self,i):\n",
    "        self.l.append(i)\n",
    "        print(self.l)\n",
    "    def delete(self):\n",
    "        self.l.pop(0)\n",
    "        print(self.l)\n",
    "    def size(self):\n",
    "        print(len(self.l))\n",
    "Q=queue()\n",
    "Q.enque(0)\n",
    "Q.enque(1)\n",
    "Q.enque(2)\n",
    "Q.enque(3)\n",
    "Q.delete()\n",
    "Q.size()"
   ]
  }
 ],
 "metadata": {
  "kernelspec": {
   "display_name": "Python 3",
   "language": "python",
   "name": "python3"
  },
  "language_info": {
   "codemirror_mode": {
    "name": "ipython",
    "version": 3
   },
   "file_extension": ".py",
   "mimetype": "text/x-python",
   "name": "python",
   "nbconvert_exporter": "python",
   "pygments_lexer": "ipython3",
   "version": "3.7.3"
  }
 },
 "nbformat": 4,
 "nbformat_minor": 4
}
