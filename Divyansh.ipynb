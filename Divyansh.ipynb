{
 "cells": [
  {
   "cell_type": "code",
   "execution_count": 1,
   "metadata": {},
   "outputs": [
    {
     "name": "stdout",
     "output_type": "stream",
     "text": [
      "['a']\n"
     ]
    }
   ],
   "source": [
    "class Stack:\n",
    "\tdef __init__(self):\n",
    "\t\t\t\tself.items=[]\n",
    "\t\t\n",
    "\tdef push(self,item):\n",
    "\t\t\t\tself.items.append(item)\n",
    "\t\t \n",
    "\tdef pop(self):\n",
    "\t\t   self.items.pop()\n",
    "\t   \n",
    "\tdef isempty(self):\n",
    "\t\t\t  return self.items==[]\n",
    "s1=Stack()\n",
    "s1.push('a')\n",
    "s1.push(1)\n",
    "s1.pop()\n",
    "print(s1.items)\n",
    "\n",
    "\n",
    "\n",
    "\t  \n"
   ]
  },
  {
   "cell_type": "code",
   "execution_count": null,
   "metadata": {},
   "outputs": [],
   "source": []
  }
 ],
 "metadata": {
  "kernelspec": {
   "display_name": "Python 3",
   "language": "python",
   "name": "python3"
  },
  "language_info": {
   "codemirror_mode": {
    "name": "ipython",
    "version": 3
   },
   "file_extension": ".py",
   "mimetype": "text/x-python",
   "name": "python",
   "nbconvert_exporter": "python",
   "pygments_lexer": "ipython3",
   "version": "3.6.7"
  }
 },
 "nbformat": 4,
 "nbformat_minor": 2
}
