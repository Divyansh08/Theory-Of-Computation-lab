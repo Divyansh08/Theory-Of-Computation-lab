{
 "cells": [
  {
   "cell_type": "code",
   "execution_count": null,
   "metadata": {},
   "outputs": [
    {
     "name": "stdin",
     "output_type": "stream",
     "text": [
      "Enter number of test cases :  1\n",
      "Your string :  ab\n"
     ]
    },
    {
     "name": "stdout",
     "output_type": "stream",
     "text": [
      "String Accepted.\n"
     ]
    },
    {
     "name": "stdin",
     "output_type": "stream",
     "text": [
      "Your string :  aab\n"
     ]
    },
    {
     "name": "stdout",
     "output_type": "stream",
     "text": [
      "String Declined.\n"
     ]
    }
   ],
   "source": [
    "#PDA for accepting a^n.b^n\n",
    "\n",
    "class stack:\n",
    "    def __init__(self):\n",
    "        self.a=[]\n",
    "    def push(self,item):\n",
    "        self.a.append(item)\n",
    "    def pop(self):\n",
    "        self.a.pop()\n",
    "    def size(self):\n",
    "        return len(self.a)\n",
    "    def isempty(self):\n",
    "        return len(self.a)==0\n",
    "    def tos(self):\n",
    "        return self.a[-1]\n",
    "ans=1\n",
    "n=int(input(\"Enter number of test cases : \"))\n",
    "while(n):\n",
    "    obj=stack()\n",
    "    _str=input(\"Your string : \")\n",
    "    for i in _str:\n",
    "        if i=='a':\n",
    "            obj.push(i)\n",
    "        else:\n",
    "            try:\n",
    "                obj.pop()\n",
    "            except:\n",
    "                ans=0\n",
    "    if obj.size()==0 and ans==1:\n",
    "        print(\"String Accepted.\")\n",
    "    else:\n",
    "        print(\"String Declined.\")"
   ]
  }
 ],
 "metadata": {
  "kernelspec": {
   "display_name": "Python 3",
   "language": "python",
   "name": "python3"
  },
  "language_info": {
   "codemirror_mode": {
    "name": "ipython",
    "version": 3
   },
   "file_extension": ".py",
   "mimetype": "text/x-python",
   "name": "python",
   "nbconvert_exporter": "python",
   "pygments_lexer": "ipython3",
   "version": "3.7.3"
  }
 },
 "nbformat": 4,
 "nbformat_minor": 4
}
