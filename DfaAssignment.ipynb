{
 "cells": [
  {
   "cell_type": "code",
   "execution_count": 3,
   "metadata": {},
   "outputs": [
    {
     "name": "stdin",
     "output_type": "stream",
     "text": [
      "Enter String 011001100\n"
     ]
    },
    {
     "name": "stdout",
     "output_type": "stream",
     "text": [
      "Invalid String\n"
     ]
    }
   ],
   "source": [
    "#DFA implementation of strings containing 111 \n",
    "\n",
    "dfa = dict()\n",
    "dfa[('q0','0')]='q0'\n",
    "dfa[('q0','1')]='q1'\n",
    "dfa[('q1','0')]='q0'\n",
    "dfa[('q1','1')]='q2'\n",
    "dfa[('q2','0')]='q0'\n",
    "dfa[('q2','1')]='q3'\n",
    "dfa[('q3','0')]='q3'\n",
    "dfa[('q3','1')]='q3'\n",
    "\n",
    "iis = 'q0'\n",
    "fs = {'q3'}\n",
    "str = input('Enter String')\n",
    "cs = iis\n",
    "\n",
    "for i in str:\n",
    "    cs = dfa[(cs,i)]\n",
    "if cs in fs:\n",
    "    print('Valid String')\n",
    "else :\n",
    "    print('Invalid String')"
   ]
  },
  {
   "cell_type": "code",
   "execution_count": 4,
   "metadata": {},
   "outputs": [],
   "source": [
    "#DFA accepting a's and b's having strings which have 3 a and consecutive b.\n",
    "\n",
    "dfa={'q0':{'a':'q0','b':'q1'},'q1':{'a':'q0','b':'q2'},'q2':{'a':'q0','b':'q3'},'q3':{'a':'q3','b':'q3'}}\n",
    "class Eab:\n",
    "    def __init__(self,dfa):\n",
    "        self.dfa=dfa\n",
    "        self.initial='q0'\n",
    "        self.final={'q3'}\n",
    "        self.current={}\n",
    "    def moves(self,string):\n",
    "        self.current=self.initial\n",
    "        for i in string:\n",
    "            self.current=dfa[self.current][i]\n",
    "        if self.current in self.final:\n",
    "            return True\n",
    "        else:\n",
    "            return False"
   ]
  },
  {
   "cell_type": "code",
   "execution_count": 5,
   "metadata": {},
   "outputs": [],
   "source": [
    "abc=Eab(dfa)"
   ]
  },
  {
   "cell_type": "code",
   "execution_count": 6,
   "metadata": {},
   "outputs": [
    {
     "data": {
      "text/plain": [
       "False"
      ]
     },
     "execution_count": 6,
     "metadata": {},
     "output_type": "execute_result"
    }
   ],
   "source": [
    "abc.moves('aaa')"
   ]
  },
  {
   "cell_type": "code",
   "execution_count": 7,
   "metadata": {},
   "outputs": [
    {
     "data": {
      "text/plain": [
       "True"
      ]
     },
     "execution_count": 7,
     "metadata": {},
     "output_type": "execute_result"
    }
   ],
   "source": [
    "abc.moves('bbb')"
   ]
  },
  {
   "cell_type": "code",
   "execution_count": 8,
   "metadata": {},
   "outputs": [
    {
     "data": {
      "text/plain": [
       "True"
      ]
     },
     "execution_count": 8,
     "metadata": {},
     "output_type": "execute_result"
    }
   ],
   "source": [
    "abc.moves('bbabbb')"
   ]
  },
  {
   "cell_type": "code",
   "execution_count": 10,
   "metadata": {},
   "outputs": [],
   "source": [
    "#DFA accepting a's and b's which accepts strings which are multiple of 3.\n",
    "\n",
    "dfa={'q0':{'a':'q1','b':'q1'},'q1':{'a':'q2','b':'q2'},'q2':{'a':'q0','b':'q0'}}\n",
    "class Eab:\n",
    "    def __init__(self,dfa):\n",
    "        self.dfa=dfa\n",
    "        self.initial='q0'\n",
    "        self.final={'q0'}\n",
    "        self.current={}\n",
    "    def moves(self,string):\n",
    "        self.current=self.initial\n",
    "        for i in string:\n",
    "            self.current=dfa[self.current][i]\n",
    "        if self.current in self.final:\n",
    "            return True\n",
    "        else:\n",
    "            return False"
   ]
  },
  {
   "cell_type": "code",
   "execution_count": 11,
   "metadata": {},
   "outputs": [],
   "source": [
    "abc=Eab(dfa)"
   ]
  },
  {
   "cell_type": "code",
   "execution_count": 12,
   "metadata": {},
   "outputs": [
    {
     "data": {
      "text/plain": [
       "False"
      ]
     },
     "execution_count": 12,
     "metadata": {},
     "output_type": "execute_result"
    }
   ],
   "source": [
    "abc.moves('a')"
   ]
  },
  {
   "cell_type": "code",
   "execution_count": 13,
   "metadata": {},
   "outputs": [
    {
     "data": {
      "text/plain": [
       "True"
      ]
     },
     "execution_count": 13,
     "metadata": {},
     "output_type": "execute_result"
    }
   ],
   "source": [
    "abc.moves('aba')"
   ]
  },
  {
   "cell_type": "code",
   "execution_count": 14,
   "metadata": {},
   "outputs": [],
   "source": [
    "#Dfa using function\n",
    "\n",
    "dfa={0:{'a':1,'b':3},1:{'a':0,'b':2},2:{'a':3,'b':1},3:{'a':2,'b':0}}\n",
    "initial=0\n",
    "final={0}\n",
    "current={}\n",
    "def func(string):\n",
    "    current=initial\n",
    "    for i in string:\n",
    "        current=dfa[current][i]\n",
    "    if current in final:\n",
    "        return True\n",
    "    else:\n",
    "        return False"
   ]
  },
  {
   "cell_type": "code",
   "execution_count": 15,
   "metadata": {},
   "outputs": [
    {
     "data": {
      "text/plain": [
       "True"
      ]
     },
     "execution_count": 15,
     "metadata": {},
     "output_type": "execute_result"
    }
   ],
   "source": [
    "func('')"
   ]
  },
  {
   "cell_type": "code",
   "execution_count": 16,
   "metadata": {},
   "outputs": [
    {
     "data": {
      "text/plain": [
       "False"
      ]
     },
     "execution_count": 16,
     "metadata": {},
     "output_type": "execute_result"
    }
   ],
   "source": [
    "func('aaba')"
   ]
  },
  {
   "cell_type": "code",
   "execution_count": null,
   "metadata": {},
   "outputs": [],
   "source": [
    "#\n",
    "\n",
    "dfa={'q0':{'a':'q0','b':'q1'},'q1':{'a':'q2','b':'q1'},'q2':{'a':'q0','b':'q3'},'q3':{'a':'q2','b':'q1'}}"
   ]
  }
 ],
 "metadata": {
  "kernelspec": {
   "display_name": "Python 3",
   "language": "python",
   "name": "python3"
  },
  "language_info": {
   "codemirror_mode": {
    "name": "ipython",
    "version": 3
   },
   "file_extension": ".py",
   "mimetype": "text/x-python",
   "name": "python",
   "nbconvert_exporter": "python",
   "pygments_lexer": "ipython3",
   "version": "3.7.3"
  }
 },
 "nbformat": 4,
 "nbformat_minor": 4
}
